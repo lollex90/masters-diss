{
 "cells": [
  {
   "cell_type": "code",
   "execution_count": 1,
   "metadata": {},
   "outputs": [
    {
     "name": "stderr",
     "output_type": "stream",
     "text": [
      "c:\\Users\\jakub\\anaconda\\lib\\site-packages\\scipy\\__init__.py:146: UserWarning: A NumPy version >=1.16.5 and <1.23.0 is required for this version of SciPy (detected version 1.26.4\n",
      "  warnings.warn(f\"A NumPy version >={np_minversion} and <{np_maxversion}\"\n"
     ]
    }
   ],
   "source": [
    "from tools import *\n",
    "import warnings\n",
    "warnings.filterwarnings('ignore')"
   ]
  },
  {
   "cell_type": "markdown",
   "metadata": {},
   "source": [
    "Prepare the data"
   ]
  },
  {
   "cell_type": "code",
   "execution_count": 2,
   "metadata": {},
   "outputs": [],
   "source": [
    "# load tabular ukraine data\n",
    "ukraine_data = pd.read_csv('data/tabular_data_ukraine.csv')\n",
    "\n",
    "# delete Kyiv and Kyiv_Oblast\n",
    "ukraine_data = ukraine_data[ukraine_data[\"region\"] != \"Kyiv\"]\n",
    "ukraine_data = ukraine_data[ukraine_data[\"region\"] != \"Kyiv_Oblast\"]\n",
    "\n",
    "# get training, test, pre_war and prediction data\n",
    "train_data = ukraine_data[ukraine_data['year'] < 2021]\n",
    "test_data = ukraine_data[ukraine_data['year'] == 2021]\n",
    "pre_war_data = ukraine_data[ukraine_data['year'] < 2022]\n",
    "prediction_data = ukraine_data[ukraine_data['year'] == 2022]\n",
    "\n",
    "# column_prefixes = (\"nearnad_snow_cov\", \"nearnad_snow_free\", \"offnad_snow_cov\",\n",
    "#                    \"offnad_snow_free\", \"allangle_snow_cov\", \"allangle_snow_free\", \n",
    "#                    \"nearnad_snow_free_hq\", \"offnad_snow_free_hq\", \"allangle_snow_free_hq\")\n",
    "\n",
    "column_prefixes = (\"nearnad_snow_free_hq\", \"offnad_snow_free_hq\", \"allangle_snow_free_hq\")\n",
    "\n",
    "# column_prefixes = (\"nearnad_snow_free_hq\")\n",
    "\n",
    "general_characteristics = (\"mean\", \"sd\")"
   ]
  },
  {
   "cell_type": "markdown",
   "metadata": {},
   "source": [
    "Define general functions"
   ]
  },
  {
   "cell_type": "markdown",
   "metadata": {},
   "source": [
    "XGBoost"
   ]
  },
  {
   "cell_type": "code",
   "execution_count": 3,
   "metadata": {},
   "outputs": [],
   "source": [
    "# Define parameter grid for XGBoost\n",
    "# param_grid_xgb = {\n",
    "#     'max_depth': [5, 4, 6],\n",
    "#     'min_child_weight': [6, 4, 5],\n",
    "#     'random_state': [0] \n",
    "# }\n",
    "\n",
    "param_grid_xgb = {\n",
    "    'eta': [0.01, 0.1, 0.2, 0.3, 0.5],\n",
    "    'gamma': [100, 1000, 10000],\n",
    "    'max_depth': [4, 6, 8, 10],\n",
    "    'min_child_weight': [1, 2, 5],\n",
    "    'random_state': [0] \n",
    "}"
   ]
  },
  {
   "cell_type": "code",
   "execution_count": 4,
   "metadata": {},
   "outputs": [
    {
     "name": "stdout",
     "output_type": "stream",
     "text": [
      "-41.30154006090184 {'objective': 'reg:squarederror', 'base_score': None, 'booster': None, 'callbacks': None, 'colsample_bylevel': None, 'colsample_bynode': None, 'colsample_bytree': None, 'device': None, 'early_stopping_rounds': None, 'enable_categorical': False, 'eval_metric': None, 'feature_types': None, 'gamma': 100, 'grow_policy': None, 'importance_type': None, 'interaction_constraints': None, 'learning_rate': None, 'max_bin': None, 'max_cat_threshold': None, 'max_cat_to_onehot': None, 'max_delta_step': None, 'max_depth': 4, 'max_leaves': None, 'min_child_weight': 2, 'missing': nan, 'monotone_constraints': None, 'multi_strategy': None, 'n_estimators': None, 'n_jobs': None, 'num_parallel_tree': None, 'random_state': 0, 'reg_alpha': None, 'reg_lambda': None, 'sampling_method': None, 'scale_pos_weight': None, 'subsample': None, 'tree_method': None, 'validate_parameters': None, 'verbosity': None, 'eta': 0.1}\n",
      "1851.9566892526332 7.1488753582094215\n"
     ]
    }
   ],
   "source": [
    "year = 2021\n",
    "country_data = pre_war_data\n",
    "prefix = \"allangle_snow_free_hq\"\n",
    "selected_columns =  [prefix + \"_\" + char for char in general_characteristics] + [prefix + \"_log_\" + str(i) for i in range(1, 11)]\n",
    "model_type = \"xgboost\"\n",
    "log_transform = False\n",
    "scale = False\n",
    "\n",
    "train_data = country_data[country_data['year'] != year]\n",
    "test_data = country_data[country_data['year'] == year]     \n",
    "mae, mpe, _ = build_model(train_data, test_data, selected_columns, model_type, param_grid_xgb, log_transform, scale)\n",
    "gdp_change, best_params = predict_with_model(pre_war_data, prediction_data, selected_columns, model_type, param_grid_xgb, log_transform, scale)\n",
    "\n",
    "\n",
    "print(gdp_change, best_params)\n",
    "print(mae, mpe)"
   ]
  },
  {
   "cell_type": "code",
   "execution_count": 10,
   "metadata": {},
   "outputs": [
    {
     "name": "stdout",
     "output_type": "stream",
     "text": [
      "Finished nearnad_snow_free_hq\n",
      "Finished offnad_snow_free_hq\n",
      "Finished allangle_snow_free_hq\n",
      "                  prefix  columns          mae        mpe  national_gdp_change\n",
      "1    offnad_snow_free_hq  log_bin  3704.532385   9.679201           -40.886053\n",
      "2  allangle_snow_free_hq  log_bin  4197.752625   9.300496           -32.501726\n",
      "0   nearnad_snow_free_hq  log_bin  5857.776513  16.770087           121.917465\n",
      "{'objective': 'reg:squarederror', 'base_score': None, 'booster': None, 'callbacks': None, 'colsample_bylevel': None, 'colsample_bynode': None, 'colsample_bytree': None, 'device': None, 'early_stopping_rounds': None, 'enable_categorical': False, 'eval_metric': None, 'feature_types': None, 'gamma': 100, 'grow_policy': None, 'importance_type': None, 'interaction_constraints': None, 'learning_rate': None, 'max_bin': None, 'max_cat_threshold': None, 'max_cat_to_onehot': None, 'max_delta_step': None, 'max_depth': 6, 'max_leaves': None, 'min_child_weight': 5, 'missing': nan, 'monotone_constraints': None, 'multi_strategy': None, 'n_estimators': None, 'n_jobs': None, 'num_parallel_tree': None, 'random_state': 0, 'reg_alpha': None, 'reg_lambda': None, 'sampling_method': None, 'scale_pos_weight': None, 'subsample': None, 'tree_method': None, 'validate_parameters': None, 'verbosity': None, 'eta': 0.1}\n"
     ]
    }
   ],
   "source": [
    "# very promising results with nearnad_snow_free_hq, idr_bin_columns + general_columns (mean, median, sd, sum) with log transform and scale\n",
    "\n",
    "# initialise a df to store the results\n",
    "xgb_results = pd.DataFrame(columns=[\"prefix\", \"columns\", \"mae\", \"mpe\", \"national_gdp_change\"])\n",
    "\n",
    "for prefix in column_prefixes:\n",
    "    # create general column names\n",
    "    general_columns, log_bin_columns, idr_bin_columns = create_column_names(prefix, general_characteristics)\n",
    "    \n",
    "    # build xgb models for each year, calculate average mpe and mse, predict the national gdp change, add the results to the df\n",
    "    for selected_columns, columns_category in zip([log_bin_columns], [\"log_bin\"]):\n",
    "        mae, mpe, gdp_change, best_params = build_model_and_predict(pre_war_data, prediction_data, selected_columns, \"xgboost\", param_grid_xgb, log_transform = False, scale = False, total_metrics = True)\n",
    "        new_results = pd.DataFrame([{\"prefix\": prefix, \"columns\": columns_category, \"mae\": mae, \"mpe\": mpe, \"national_gdp_change\": gdp_change}])\n",
    "        xgb_results = pd.concat([xgb_results, new_results], ignore_index=True)\n",
    "\n",
    "    print(f\"Finished {prefix}\")\n",
    "\n",
    "# sort by mae, print the results\n",
    "xgb_results = xgb_results.sort_values(by=\"mae\")\n",
    "print(xgb_results)\n",
    "print(best_params)"
   ]
  },
  {
   "cell_type": "markdown",
   "metadata": {},
   "source": [
    "Random Forest"
   ]
  },
  {
   "cell_type": "code",
   "execution_count": 10,
   "metadata": {},
   "outputs": [],
   "source": [
    "# Define parameter grid for Random Forest\n",
    "param_grid_rf = {\n",
    "    'n_estimators': [100, 200, 300],\n",
    "    'random_state': [0],  # Ensures reproducibility\n",
    "    'max_depth': [10, 20, 30],  # Maximum depth of the tree\n",
    "    'min_samples_split': [2, 5, 10],  # Minimum number of samples required to split an internal node\n",
    "    'min_samples_leaf': [1, 2, 4],  # Minimum number of samples required to be at a leaf node\n",
    "}"
   ]
  },
  {
   "cell_type": "code",
   "execution_count": 13,
   "metadata": {},
   "outputs": [
    {
     "name": "stdout",
     "output_type": "stream",
     "text": [
      "Finished nearnad_snow_free_hq\n",
      "Finished offnad_snow_free_hq\n",
      "Finished allangle_snow_free_hq\n",
      "                  prefix  columns          mae       mpe  national_gdp_change\n",
      "2  allangle_snow_free_hq  log_bin  3694.764568  3.246507           -31.886836\n",
      "1    offnad_snow_free_hq  log_bin  3807.619965  2.319833           -42.694637\n",
      "0   nearnad_snow_free_hq  log_bin  3809.765291  3.103696            -2.157626\n",
      "{'bootstrap': True, 'ccp_alpha': 0.0, 'criterion': 'mse', 'max_depth': 20, 'max_features': 'auto', 'max_leaf_nodes': None, 'max_samples': None, 'min_impurity_decrease': 0.0, 'min_impurity_split': None, 'min_samples_leaf': 4, 'min_samples_split': 2, 'min_weight_fraction_leaf': 0.0, 'n_estimators': 100, 'n_jobs': None, 'oob_score': False, 'random_state': 0, 'verbose': 0, 'warm_start': False}\n"
     ]
    }
   ],
   "source": [
    "# initialise a df to store the results\n",
    "rf_results = pd.DataFrame(columns=[\"prefix\", \"columns\", \"mae\", \"mpe\", \"national_gdp_change\"])\n",
    "\n",
    "for prefix in column_prefixes:\n",
    "    # create general column names\n",
    "    general_columns, log_bin_columns, idr_bin_columns = create_column_names(prefix, general_characteristics)\n",
    "    \n",
    "    # build xgb models and predict the national gdp change, add the results to the df\n",
    "    for selected_columns, columns_category in zip([log_bin_columns], [\"log_bin\"]):\n",
    "        mae, mpe, gdp_change, best_params = build_model_and_predict(pre_war_data, prediction_data, selected_columns, \"random_forest\", param_grid_rf, log_transform = False, scale = False, total_metrics = True)\n",
    "        new_results = pd.DataFrame([{\"prefix\": prefix, \"columns\": columns_category, \"mae\": mae, \"mpe\": mpe, \"national_gdp_change\": gdp_change}])\n",
    "        rf_results = pd.concat([rf_results, new_results], ignore_index=True)\n",
    "\n",
    "    print(f\"Finished {prefix}\")\n",
    "\n",
    "# sort by mae, print the results\n",
    "rf_results = rf_results.sort_values(by=\"mae\")\n",
    "print(rf_results)\n",
    "print(best_params)"
   ]
  },
  {
   "cell_type": "markdown",
   "metadata": {},
   "source": [
    "Lasso"
   ]
  },
  {
   "cell_type": "code",
   "execution_count": 37,
   "metadata": {},
   "outputs": [],
   "source": [
    "# Define parameter grid for Lasso\n",
    "param_grid_lasso = {\n",
    "    'alpha': [0.1, 0.5, 1]    \n",
    "}"
   ]
  },
  {
   "cell_type": "code",
   "execution_count": 38,
   "metadata": {},
   "outputs": [
    {
     "name": "stdout",
     "output_type": "stream",
     "text": [
      "Finished nearnad_snow_free_hq\n",
      "Finished offnad_snow_free_hq\n",
      "Finished allangle_snow_free_hq\n",
      "                  prefix  columns       mae       mpe  national_gdp_change\n",
      "7  allangle_snow_free_hq  log_bin  1.995504  2.485594           -49.219083\n",
      "1   nearnad_snow_free_hq  log_bin  2.018039  3.405903           -45.145320\n",
      "8  allangle_snow_free_hq  idr_bin  2.033258  3.242828           -50.658702\n",
      "6  allangle_snow_free_hq  general  2.046027  2.207463           -57.345137\n",
      "2   nearnad_snow_free_hq  idr_bin  2.068528  4.930689           -45.672186\n",
      "4    offnad_snow_free_hq  log_bin  2.087120  2.039300           -44.180048\n",
      "0   nearnad_snow_free_hq  general  2.146417  3.630255           -47.425399\n",
      "5    offnad_snow_free_hq  idr_bin  2.160240  2.726171           -51.422675\n",
      "3    offnad_snow_free_hq  general  2.227228  4.855434           -42.026040\n"
     ]
    }
   ],
   "source": [
    "# initialise a df to store the results\n",
    "lasso_results = pd.DataFrame(columns=[\"prefix\", \"columns\", \"mae\", \"mpe\", \"national_gdp_change\"])\n",
    "\n",
    "for prefix in column_prefixes:\n",
    "    # create general column names\n",
    "    general_columns, log_bin_columns, idr_bin_columns = create_column_names(prefix, general_characteristics)\n",
    "    \n",
    "    # build xgb models and predict the national gdp change, add the results to the df\n",
    "    for selected_columns, columns_category in zip([general_columns, log_bin_columns, idr_bin_columns], [\"general\", \"log_bin\", \"idr_bin\"]):\n",
    "        mae, mpe, gdp_change = build_model_and_predict(pre_war_data, prediction_data, selected_columns, \"lasso\", param_grid_lasso, log_transform = True, scale = True, total_metrics = True)\n",
    "        new_results = pd.DataFrame([{\"prefix\": prefix, \"columns\": columns_category, \"mae\": mae, \"mpe\": mpe, \"national_gdp_change\": gdp_change}])\n",
    "        lasso_results = pd.concat([lasso_results, new_results], ignore_index=True)\n",
    "\n",
    "    print(f\"Finished {prefix}\")\n",
    "\n",
    "# sort by mae, print the results\n",
    "lasso_results = lasso_results.sort_values(by=\"mae\")\n",
    "print(lasso_results)"
   ]
  }
 ],
 "metadata": {
  "kernelspec": {
   "display_name": "base",
   "language": "python",
   "name": "python3"
  },
  "language_info": {
   "codemirror_mode": {
    "name": "ipython",
    "version": 3
   },
   "file_extension": ".py",
   "mimetype": "text/x-python",
   "name": "python",
   "nbconvert_exporter": "python",
   "pygments_lexer": "ipython3",
   "version": "3.9.7"
  }
 },
 "nbformat": 4,
 "nbformat_minor": 2
}
