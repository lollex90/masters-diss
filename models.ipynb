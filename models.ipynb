{
 "cells": [
  {
   "cell_type": "code",
   "execution_count": 1,
   "metadata": {},
   "outputs": [
    {
     "name": "stderr",
     "output_type": "stream",
     "text": [
      "c:\\Users\\jakub\\anaconda\\lib\\site-packages\\scipy\\__init__.py:146: UserWarning: A NumPy version >=1.16.5 and <1.23.0 is required for this version of SciPy (detected version 1.26.4\n",
      "  warnings.warn(f\"A NumPy version >={np_minversion} and <{np_maxversion}\"\n"
     ]
    },
    {
     "name": "stdout",
     "output_type": "stream",
     "text": [
      "WARNING:tensorflow:From c:\\Users\\jakub\\anaconda\\lib\\site-packages\\keras\\src\\losses.py:2976: The name tf.losses.sparse_softmax_cross_entropy is deprecated. Please use tf.compat.v1.losses.sparse_softmax_cross_entropy instead.\n",
      "\n"
     ]
    }
   ],
   "source": [
    "from tools import *\n",
    "import warnings\n",
    "warnings.filterwarnings('ignore')"
   ]
  },
  {
   "cell_type": "markdown",
   "metadata": {},
   "source": [
    "Prepare the data"
   ]
  },
  {
   "cell_type": "code",
   "execution_count": 2,
   "metadata": {},
   "outputs": [],
   "source": [
    "# load tabular ukraine data\n",
    "ukraine_data = pd.read_csv('data/tabular_data_ukraine.csv')\n",
    "\n",
    "# delete Kyiv and Kyiv_Oblast\n",
    "# ukraine_data = ukraine_data[ukraine_data[\"region\"] != \"Kyiv\"]\n",
    "# ukraine_data = ukraine_data[ukraine_data[\"region\"] != \"Kyiv_Oblast\"]\n",
    "ukraine_data = ukraine_data[ukraine_data[\"region\"] != \"Kyiv_Oblast_City\"]\n",
    "\n",
    "\n",
    "# get training, test, pre_war and prediction data\n",
    "train_data = ukraine_data[ukraine_data['year'] < 2021]\n",
    "test_data = ukraine_data[ukraine_data['year'] == 2021]\n",
    "pre_war_data = ukraine_data[ukraine_data['year'] < 2022]\n",
    "prediction_data = ukraine_data[ukraine_data['year'] == 2022]\n",
    "\n",
    "# reset index\n",
    "train_data = train_data.reset_index(drop=True)\n",
    "test_data = test_data.reset_index(drop=True)\n",
    "pre_war_data = pre_war_data.reset_index(drop=True)\n",
    "prediction_data = prediction_data.reset_index(drop=True)\n",
    "\n",
    "# column_prefixes = (\"nearnad_snow_cov\", \"nearnad_snow_free\", \"offnad_snow_cov\",\n",
    "#                    \"offnad_snow_free\", \"allangle_snow_cov\", \"allangle_snow_free\", \n",
    "#                    \"nearnad_snow_free_hq\", \"offnad_snow_free_hq\", \"allangle_snow_free_hq\")\n",
    "\n",
    "# column_prefixes = (\"nearnad_snow_free_hq\", \"offnad_snow_free_hq\", \"allangle_snow_free_hq\")\n",
    "\n",
    "column_prefixes = [\"allangle_snow_free_hq\"]\n",
    "\n",
    "general_characteristics = (\"mean\", \"sd\")"
   ]
  },
  {
   "cell_type": "markdown",
   "metadata": {},
   "source": [
    "Define general functions"
   ]
  },
  {
   "cell_type": "markdown",
   "metadata": {},
   "source": [
    "XGBoost"
   ]
  },
  {
   "cell_type": "code",
   "execution_count": 13,
   "metadata": {},
   "outputs": [],
   "source": [
    "# Define parameter grid for XGBoost\n",
    "# param_grid_xgb = {\n",
    "#     'max_depth': [5, 4, 6],\n",
    "#     'min_child_weight': [6, 4, 5],\n",
    "#     'random_state': [0] \n",
    "# }\n",
    "\n",
    "param_grid_xgb = {\n",
    "    'eta': [0.01, 0.1, 0.2, 0.3],\n",
    "    'gamma': [10, 20, 50, 100],\n",
    "    'max_depth': [4, 6, 8, 10],\n",
    "    'min_child_weight': [3, 4, 5, 6],\n",
    "    'random_state': [0] \n",
    "}"
   ]
  },
  {
   "cell_type": "code",
   "execution_count": 14,
   "metadata": {},
   "outputs": [
    {
     "name": "stdout",
     "output_type": "stream",
     "text": [
      "Finished allangle_snow_free\n",
      "               prefix  columns          mae        mpe  national_gdp_change\n",
      "0  allangle_snow_free  log_bin  4721.050089  11.283239           -30.255199\n"
     ]
    }
   ],
   "source": [
    "# very promising results with nearnad_snow_free_hq, idr_bin_columns + general_columns (mean, median, sd, sum) with log transform and scale\n",
    "\n",
    "# initialise a df to store the results\n",
    "xgb_results = pd.DataFrame(columns=[\"prefix\", \"columns\", \"mae\", \"mpe\", \"national_gdp_change\"])\n",
    "\n",
    "for prefix in column_prefixes:\n",
    "    # create general column names\n",
    "    general_columns, log_bin_columns, idr_bin_columns = create_column_names(prefix, general_characteristics)\n",
    "    \n",
    "    # build xgb models for each year, calculate average mpe and mse, predict the national gdp change, add the results to the df\n",
    "    for selected_columns, columns_category in zip([log_bin_columns], [\"log_bin\"]):\n",
    "        mae, mpe, gdp_change, y_pred = build_model_and_predict(pre_war_data, prediction_data, selected_columns, \"xgboost\", param_grid_xgb, log_transform = False, scale = False, total_metrics = False)\n",
    "        new_results = pd.DataFrame([{\"prefix\": prefix, \"columns\": columns_category, \"mae\": mae, \"mpe\": mpe, \"national_gdp_change\": gdp_change}])\n",
    "        xgb_results = pd.concat([xgb_results, new_results], ignore_index=True)\n",
    "\n",
    "    print(f\"Finished {prefix}\")\n",
    "\n",
    "# sort by mae, print the results\n",
    "xgb_results = xgb_results.sort_values(by=\"mae\")\n",
    "print(xgb_results)\n",
    "\n",
    "# add the results to prediction data\n",
    "\n",
    "prediction_data[\"gdp_pred\"] = y_pred"
   ]
  },
  {
   "cell_type": "code",
   "execution_count": 15,
   "metadata": {},
   "outputs": [
    {
     "name": "stdout",
     "output_type": "stream",
     "text": [
      "                    region      gdp_pred\n",
      "0         Vinnytsia_Oblast  36776.000000\n",
      "1             Volyn_Oblast  47145.269531\n",
      "2    Dnipropetrovsk_Oblast  19734.585938\n",
      "3           Donetsk_Oblast  50099.304688\n",
      "4          Zhytomyr_Oblast  47110.492188\n",
      "5       Zakarpattia_Oblast  22814.728516\n",
      "6        Zaporizhia_Oblast  20642.404297\n",
      "7   Ivano-Frankivsk_Oblast  51976.734375\n",
      "8              Kyiv_Oblast  24443.671875\n",
      "9        Kirovohrad_Oblast  46897.398438\n",
      "10          Luhansk_Oblast  21360.117188\n",
      "11             Lviv_Oblast  28214.775391\n",
      "12         Mykolaiv_Oblast  55375.273438\n",
      "13           Odessa_Oblast  33906.468750\n",
      "14          Poltava_Oblast  22718.968750\n",
      "15            Rivne_Oblast  20637.617188\n",
      "16             Sumy_Oblast  47129.148438\n",
      "17         Ternopil_Oblast  54086.910156\n",
      "18          Kharkiv_Oblast  47129.148438\n",
      "19          Kherson_Oblast  18164.017578\n",
      "20     Khmelnytskyi_Oblast  22545.201172\n",
      "21         Cherkasy_Oblast  23848.566406\n",
      "22       Chernivtsi_Oblast  13694.843750\n",
      "23        Chernihiv_Oblast  56249.929688\n",
      "24                    Kyiv  83681.171875\n"
     ]
    }
   ],
   "source": [
    "print(prediction_data[[\"region\", \"gdp_pred\"]])\n"
   ]
  },
  {
   "cell_type": "code",
   "execution_count": 16,
   "metadata": {},
   "outputs": [
    {
     "data": {
      "text/html": [
       "<div>\n",
       "<style scoped>\n",
       "    .dataframe tbody tr th:only-of-type {\n",
       "        vertical-align: middle;\n",
       "    }\n",
       "\n",
       "    .dataframe tbody tr th {\n",
       "        vertical-align: top;\n",
       "    }\n",
       "\n",
       "    .dataframe thead th {\n",
       "        text-align: right;\n",
       "    }\n",
       "</style>\n",
       "<table border=\"1\" class=\"dataframe\">\n",
       "  <thead>\n",
       "    <tr style=\"text-align: right;\">\n",
       "      <th></th>\n",
       "      <th>region</th>\n",
       "      <th>real_gdp</th>\n",
       "    </tr>\n",
       "  </thead>\n",
       "  <tbody>\n",
       "    <tr>\n",
       "      <th>0</th>\n",
       "      <td>Vinnytsia_Oblast</td>\n",
       "      <td>43372.874934</td>\n",
       "    </tr>\n",
       "    <tr>\n",
       "      <th>1</th>\n",
       "      <td>Volyn_Oblast</td>\n",
       "      <td>19152.748903</td>\n",
       "    </tr>\n",
       "    <tr>\n",
       "      <th>2</th>\n",
       "      <td>Dnipropetrovsk_Oblast</td>\n",
       "      <td>128445.647049</td>\n",
       "    </tr>\n",
       "    <tr>\n",
       "      <th>3</th>\n",
       "      <td>Donetsk_Oblast</td>\n",
       "      <td>64004.166728</td>\n",
       "    </tr>\n",
       "    <tr>\n",
       "      <th>4</th>\n",
       "      <td>Zhytomyr_Oblast</td>\n",
       "      <td>30071.647441</td>\n",
       "    </tr>\n",
       "    <tr>\n",
       "      <th>5</th>\n",
       "      <td>Zakarpattia_Oblast</td>\n",
       "      <td>20968.462635</td>\n",
       "    </tr>\n",
       "    <tr>\n",
       "      <th>6</th>\n",
       "      <td>Zaporizhia_Oblast</td>\n",
       "      <td>54817.528012</td>\n",
       "    </tr>\n",
       "    <tr>\n",
       "      <th>7</th>\n",
       "      <td>Ivano-Frankivsk_Oblast</td>\n",
       "      <td>33126.166246</td>\n",
       "    </tr>\n",
       "    <tr>\n",
       "      <th>8</th>\n",
       "      <td>Kyiv_Oblast</td>\n",
       "      <td>73951.522212</td>\n",
       "    </tr>\n",
       "    <tr>\n",
       "      <th>9</th>\n",
       "      <td>Kirovohrad_Oblast</td>\n",
       "      <td>25128.837437</td>\n",
       "    </tr>\n",
       "    <tr>\n",
       "      <th>10</th>\n",
       "      <td>Luhansk_Oblast</td>\n",
       "      <td>15879.442955</td>\n",
       "    </tr>\n",
       "    <tr>\n",
       "      <th>11</th>\n",
       "      <td>Lviv_Oblast</td>\n",
       "      <td>71220.454539</td>\n",
       "    </tr>\n",
       "    <tr>\n",
       "      <th>12</th>\n",
       "      <td>Mykolaiv_Oblast</td>\n",
       "      <td>32567.548869</td>\n",
       "    </tr>\n",
       "    <tr>\n",
       "      <th>13</th>\n",
       "      <td>Odessa_Oblast</td>\n",
       "      <td>75415.020226</td>\n",
       "    </tr>\n",
       "    <tr>\n",
       "      <th>14</th>\n",
       "      <td>Poltava_Oblast</td>\n",
       "      <td>45917.248569</td>\n",
       "    </tr>\n",
       "    <tr>\n",
       "      <th>15</th>\n",
       "      <td>Rivne_Oblast</td>\n",
       "      <td>22897.945289</td>\n",
       "    </tr>\n",
       "    <tr>\n",
       "      <th>16</th>\n",
       "      <td>Sumy_Oblast</td>\n",
       "      <td>25098.209795</td>\n",
       "    </tr>\n",
       "    <tr>\n",
       "      <th>17</th>\n",
       "      <td>Ternopil_Oblast</td>\n",
       "      <td>20163.355129</td>\n",
       "    </tr>\n",
       "    <tr>\n",
       "      <th>18</th>\n",
       "      <td>Kharkiv_Oblast</td>\n",
       "      <td>75747.671367</td>\n",
       "    </tr>\n",
       "    <tr>\n",
       "      <th>19</th>\n",
       "      <td>Kherson_Oblast</td>\n",
       "      <td>20631.885659</td>\n",
       "    </tr>\n",
       "    <tr>\n",
       "      <th>20</th>\n",
       "      <td>Khmelnytskyi_Oblast</td>\n",
       "      <td>28919.737552</td>\n",
       "    </tr>\n",
       "    <tr>\n",
       "      <th>21</th>\n",
       "      <td>Cherkasy_Oblast</td>\n",
       "      <td>33007.147577</td>\n",
       "    </tr>\n",
       "    <tr>\n",
       "      <th>22</th>\n",
       "      <td>Chernivtsi_Oblast</td>\n",
       "      <td>13810.718698</td>\n",
       "    </tr>\n",
       "    <tr>\n",
       "      <th>23</th>\n",
       "      <td>Chernihiv_Oblast</td>\n",
       "      <td>23270.180108</td>\n",
       "    </tr>\n",
       "    <tr>\n",
       "      <th>24</th>\n",
       "      <td>Kyiv</td>\n",
       "      <td>316322.248000</td>\n",
       "    </tr>\n",
       "  </tbody>\n",
       "</table>\n",
       "</div>"
      ],
      "text/plain": [
       "                    region       real_gdp\n",
       "0         Vinnytsia_Oblast   43372.874934\n",
       "1             Volyn_Oblast   19152.748903\n",
       "2    Dnipropetrovsk_Oblast  128445.647049\n",
       "3           Donetsk_Oblast   64004.166728\n",
       "4          Zhytomyr_Oblast   30071.647441\n",
       "5       Zakarpattia_Oblast   20968.462635\n",
       "6        Zaporizhia_Oblast   54817.528012\n",
       "7   Ivano-Frankivsk_Oblast   33126.166246\n",
       "8              Kyiv_Oblast   73951.522212\n",
       "9        Kirovohrad_Oblast   25128.837437\n",
       "10          Luhansk_Oblast   15879.442955\n",
       "11             Lviv_Oblast   71220.454539\n",
       "12         Mykolaiv_Oblast   32567.548869\n",
       "13           Odessa_Oblast   75415.020226\n",
       "14          Poltava_Oblast   45917.248569\n",
       "15            Rivne_Oblast   22897.945289\n",
       "16             Sumy_Oblast   25098.209795\n",
       "17         Ternopil_Oblast   20163.355129\n",
       "18          Kharkiv_Oblast   75747.671367\n",
       "19          Kherson_Oblast   20631.885659\n",
       "20     Khmelnytskyi_Oblast   28919.737552\n",
       "21         Cherkasy_Oblast   33007.147577\n",
       "22       Chernivtsi_Oblast   13810.718698\n",
       "23        Chernihiv_Oblast   23270.180108\n",
       "24                    Kyiv  316322.248000"
      ]
     },
     "execution_count": 16,
     "metadata": {},
     "output_type": "execute_result"
    }
   ],
   "source": [
    "test_data[[\"region\", \"real_gdp\"]]"
   ]
  },
  {
   "cell_type": "markdown",
   "metadata": {},
   "source": [
    "Random Forest"
   ]
  },
  {
   "cell_type": "code",
   "execution_count": 3,
   "metadata": {},
   "outputs": [],
   "source": [
    "# Define parameter grid for Random Forest\n",
    "param_grid_rf = {\n",
    "    'n_estimators': [50, 100, 200, 300],\n",
    "    'max_depth': [5, 10, 15, 20],  # Maximum depth of the tree\n",
    "    'min_samples_split': [2, 4, 6, 8],  # Minimum number of samples required to split an internal node\n",
    "    'min_samples_leaf': [2, 4, 6, 8],  # Minimum number of samples required to be at a leaf node\n",
    "    'random_state': [0],  # Ensures reproducibility\n",
    "\n",
    "}"
   ]
  },
  {
   "cell_type": "code",
   "execution_count": 5,
   "metadata": {},
   "outputs": [
    {
     "name": "stdout",
     "output_type": "stream",
     "text": [
      "Finished allangle_snow_free_hq\n",
      "                  prefix  columns          mae       mpe  national_gdp_change\n",
      "0  allangle_snow_free_hq  log_bin  4141.319873  7.762472           -27.843676\n",
      "[28314.78442318 25950.72000971 21401.98477722 46346.73081339\n",
      " 72136.77912726 22161.07995837 21059.27081207 39423.24622299\n",
      " 25330.01419429 21418.90632189 21370.41410471 36322.15995263\n",
      " 72452.00566556 37643.07745155 22617.22906661 21271.14295177\n",
      " 72147.87078542 69701.14665265 21268.97794756 20889.9130924\n",
      " 22443.77384051 21656.06011256 12905.53760094 72374.06344949\n",
      " 99461.13079797]\n"
     ]
    }
   ],
   "source": [
    "# initialise a df to store the results\n",
    "rf_results = pd.DataFrame(columns=[\"prefix\", \"columns\", \"mae\", \"mpe\", \"national_gdp_change\"])\n",
    "\n",
    "for prefix in column_prefixes:\n",
    "    # create general column names\n",
    "    general_columns, log_bin_columns, idr_bin_columns = create_column_names(prefix, general_characteristics)\n",
    "    \n",
    "    # build xgb models and predict the national gdp change, add the results to the df\n",
    "    for selected_columns, columns_category in zip([log_bin_columns], [\"log_bin\"]):\n",
    "        mae, mpe, gdp_change, y_pred = build_model_and_predict(pre_war_data, prediction_data, selected_columns, \"random_forest\", param_grid_rf, log_transform = False, scale = False, total_metrics = True)\n",
    "        new_results = pd.DataFrame([{\"prefix\": prefix, \"columns\": columns_category, \"mae\": mae, \"mpe\": mpe, \"national_gdp_change\": gdp_change}])\n",
    "        rf_results = pd.concat([rf_results, new_results], ignore_index=True)\n",
    "\n",
    "    print(f\"Finished {prefix}\")\n",
    "\n",
    "# sort by mae, print the results\n",
    "rf_results = rf_results.sort_values(by=\"mae\")\n",
    "print(rf_results)\n",
    "print(y_pred)"
   ]
  },
  {
   "cell_type": "markdown",
   "metadata": {},
   "source": [
    "Lasso"
   ]
  },
  {
   "cell_type": "code",
   "execution_count": null,
   "metadata": {},
   "outputs": [],
   "source": [
    "# Define parameter grid for Lasso\n",
    "param_grid_lasso = {\n",
    "    'alpha': [0.1, 0.5, 1]    \n",
    "}"
   ]
  },
  {
   "cell_type": "code",
   "execution_count": null,
   "metadata": {},
   "outputs": [],
   "source": [
    "# initialise a df to store the results\n",
    "lasso_results = pd.DataFrame(columns=[\"prefix\", \"columns\", \"mae\", \"mpe\", \"national_gdp_change\"])\n",
    "\n",
    "for prefix in column_prefixes:\n",
    "    # create general column names\n",
    "    general_columns, log_bin_columns, idr_bin_columns = create_column_names(prefix, general_characteristics)\n",
    "    \n",
    "    # build xgb models and predict the national gdp change, add the results to the df\n",
    "    for selected_columns, columns_category in zip([general_columns, log_bin_columns, idr_bin_columns], [\"general\", \"log_bin\", \"idr_bin\"]):\n",
    "        mae, mpe, gdp_change, best_params = build_model_and_predict(pre_war_data, prediction_data, selected_columns, \"lasso\", param_grid_lasso, log_transform = False, scale = False, total_metrics = True)\n",
    "        new_results = pd.DataFrame([{\"prefix\": prefix, \"columns\": columns_category, \"mae\": mae, \"mpe\": mpe, \"national_gdp_change\": gdp_change}])\n",
    "        lasso_results = pd.concat([lasso_results, new_results], ignore_index=True)\n",
    "\n",
    "    print(f\"Finished {prefix}\")\n",
    "\n",
    "# sort by mae, print the results\n",
    "lasso_results = lasso_results.sort_values(by=\"mae\")\n",
    "print(lasso_results)"
   ]
  }
 ],
 "metadata": {
  "kernelspec": {
   "display_name": "base",
   "language": "python",
   "name": "python3"
  },
  "language_info": {
   "codemirror_mode": {
    "name": "ipython",
    "version": 3
   },
   "file_extension": ".py",
   "mimetype": "text/x-python",
   "name": "python",
   "nbconvert_exporter": "python",
   "pygments_lexer": "ipython3",
   "version": "3.9.7"
  }
 },
 "nbformat": 4,
 "nbformat_minor": 2
}
